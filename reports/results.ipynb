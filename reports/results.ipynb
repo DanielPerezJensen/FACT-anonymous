{
 "cells": [
  {
   "cell_type": "code",
   "execution_count": null,
   "metadata": {
    "pycharm": {
     "is_executing": false
    }
   },
   "outputs": [],
   "source": [
    "%pylab inline\n",
    "import matplotlib.pyplot as plt\n",
    "import matplotlib.image as mpimg"
   ]
  },
  {
   "cell_type": "markdown",
   "metadata": {},
   "source": [
    "# Figures\n",
    "\n",
    "In this notebook you can find all figures shown in our report."
   ]
  },
  {
   "cell_type": "markdown",
   "metadata": {},
   "source": [
    "### Figure 2\n",
    "\n",
    "The figures were created using a self-trained classifier and explainer based on InceptionNet. These were trained using `train_classifier.py` and `train_GCE.py`. The parameters we used are listed in `train_classifiers.sh` and `train_GCEs.sh`. The sweeps were created using `generate_explanations.py`."
   ]
  },
  {
   "cell_type": "code",
   "execution_count": null,
   "metadata": {
    "pycharm": {
     "is_executing": false
    }
   },
   "outputs": [],
   "source": [
    "img1 = mpimg.imread(\"results/classifiers/inceptionnet_latentdim1.png\")\n",
    "img2 = mpimg.imread(\"results/classifiers/inceptionnet_latentdim3.png\")\n",
    "\n",
    "f, ax = plt.subplots(1, 2, figsize=(25, 25))\n",
    "\n",
    "ax[0].imshow(img1)\n",
    "ax[0].axis(\"off\")\n",
    "ax[1].imshow(img2)\n",
    "ax[1].axis(\"off\")\n",
    "\n",
    "plt.show()"
   ]
  },
  {
   "cell_type": "markdown",
   "metadata": {},
   "source": [
    "### Figure 3\n",
    "\n",
    "These figures were created in the same way as above"
   ]
  },
  {
   "cell_type": "code",
   "execution_count": null,
   "metadata": {
    "pycharm": {
     "is_executing": false
    }
   },
   "outputs": [],
   "source": [
    "img1 = mpimg.imread(\"results/classifiers/resnet_latentdim1.png\")\n",
    "img2 = mpimg.imread(\"results/classifiers/resnet_latentdim3.png\")\n",
    "\n",
    "f, ax = plt.subplots(1, 2, figsize=(25, 25))\n",
    "\n",
    "ax[0].imshow(img1)\n",
    "ax[0].axis(\"off\")\n",
    "ax[1].imshow(img2)\n",
    "ax[1].axis(\"off\")\n",
    "\n",
    "plt.show()"
   ]
  },
  {
   "cell_type": "markdown",
   "metadata": {},
   "source": [
    "\n",
    "### Figure 4\n",
    "\n",
    "These figures were created using the base classifier and self-trained explainer . These were trained using `train_GCE.py`. The sweeps were created using `generate_explanations.py`."
   ]
  },
  {
   "cell_type": "code",
   "execution_count": null,
   "metadata": {
    "pycharm": {
     "is_executing": false,
     "name": "#%%\n"
    }
   },
   "outputs": [],
   "source": [
    "img1 = mpimg.imread(\"results/parameter_selection/latentdim1_K2_L4_lam004.png\")\n",
    "img2 = mpimg.imread(\"results/parameter_selection/latentdim4_K2_L4_lam004.png\")\n",
    "\n",
    "f, ax = plt.subplots(1, 2, figsize=(25, 25))\n",
    "\n",
    "ax[0].imshow(img1)\n",
    "ax[0].axis(\"off\")\n",
    "ax[1].imshow(img2)\n",
    "ax[1].axis(\"off\")\n",
    "\n",
    "plt.show()"
   ]
  },
  {
   "cell_type": "markdown",
   "metadata": {},
   "source": [
    "### Figure 5\n",
    "\n",
    "These figures were created in the same way as above"
   ]
  },
  {
   "cell_type": "code",
   "execution_count": null,
   "metadata": {
    "pycharm": {
     "is_executing": false,
     "name": "#%%\n"
    }
   },
   "outputs": [],
   "source": [
    "img1 = mpimg.imread(\"results/parameter_selection/latentdim1_K2_L4_lam007.png\")\n",
    "img2 = mpimg.imread(\"results/parameter_selection/latentdim4_K2_L4_lam007.png\")\n",
    "\n",
    "f, ax = plt.subplots(1, 2, figsize=(25, 25))\n",
    "\n",
    "ax[0].imshow(img1)\n",
    "ax[0].axis(\"off\")\n",
    "ax[1].imshow(img2)\n",
    "ax[1].axis(\"off\")\n",
    "\n",
    "plt.show()"
   ]
  },
  {
   "cell_type": "markdown",
   "metadata": {},
   "source": [
    "### Figure 6\n",
    "\n",
    "These figures were created using a self-trained base classifier and CVAE explainer. These were trained using `train_classifier.py` and `train_GCE.py`. The dataset used in this example is CIFAR-10 (`--dataset cifar`). The sweeps were created using `generate_explanations.py`."
   ]
  },
  {
   "cell_type": "code",
   "execution_count": null,
   "metadata": {},
   "outputs": [],
   "source": [
    "img1 = mpimg.imread(\"figures/Fig3CIFAR/HorseAndTrucks/figs_latentdim1.jpg\")\n",
    "img2 = mpimg.imread(\"figures/Fig3CIFAR/HorseAndTrucks/figs_latentdim3.jpg\")\n",
    "\n",
    "f, ax = plt.subplots(1, 2, figsize=(25, 25))\n",
    "\n",
    "ax[0].imshow(img1)\n",
    "ax[0].axis(\"off\")\n",
    "ax[1].imshow(img2)\n",
    "ax[1].axis(\"off\")\n",
    "\n",
    "plt.show()"
   ]
  },
  {
   "cell_type": "markdown",
   "metadata": {},
   "source": [
    "### Figure 7\n",
    "\n",
    "This figure was created using `make_fig7.py` combined with the same models as used for Figure 6"
   ]
  },
  {
   "cell_type": "code",
   "execution_count": null,
   "metadata": {},
   "outputs": [],
   "source": [
    "plt.imshow(mpimg.imread(\"figures/Fig3CIFAR/HorseAndTrucks/horsealpha.png\"))\n",
    "plt.axis(\"off\")\n",
    "plt.show()"
   ]
  },
  {
   "cell_type": "code",
   "execution_count": null,
   "metadata": {},
   "outputs": [],
   "source": []
  }
 ],
 "metadata": {
  "kernelspec": {
   "display_name": "Python 3",
   "language": "python",
   "name": "python3"
  },
  "language_info": {
   "codemirror_mode": {
    "name": "ipython",
    "version": 3
   },
   "file_extension": ".py",
   "mimetype": "text/x-python",
   "name": "python",
   "nbconvert_exporter": "python",
   "pygments_lexer": "ipython3",
   "version": "3.7.7"
  },
  "pycharm": {
   "stem_cell": {
    "cell_type": "raw",
    "metadata": {
     "collapsed": false
    },
    "source": []
   }
  }
 },
 "nbformat": 4,
 "nbformat_minor": 4
}
