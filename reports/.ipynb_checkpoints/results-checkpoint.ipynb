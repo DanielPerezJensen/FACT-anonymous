{
 "cells": [
  {
   "cell_type": "code",
   "execution_count": null,
   "metadata": {},
   "outputs": [],
   "source": [
    "%pylab inline\n",
    "import matplotlib.pyplot as plt\n",
    "import matplotlib.image as mpimg"
   ]
  },
  {
   "cell_type": "markdown",
   "metadata": {},
   "source": [
    "# Figures\n",
    "\n",
    "In this notebook you can find all figures shown in our report."
   ]
  },
  {
   "cell_type": "markdown",
   "metadata": {},
   "source": [
    "### Figure 3\n",
    "\n",
    "The figures were created using a self-trained classifier and explainer based on InceptionNet. These were trained using `train_classifier.py` and `train_GCE.py`. The parameters we used are listed in `train_classifiers.sh` and `train_GCEs.sh`. The sweeps were created using `generate_explanations.py`."
   ]
  },
  {
   "cell_type": "code",
   "execution_count": null,
   "metadata": {},
   "outputs": [],
   "source": [
    "img1 = mpimg.imread(\"results/classifiers/inceptionnet_latentdim1.png\")\n",
    "img2 = mpimg.imread(\"results/classifiers/inceptionnet_latentdim3.png\")\n",
    "\n",
    "f, ax = plt.subplots(1, 2, figsize=(25, 25))\n",
    "\n",
    "ax[0].imshow(img1)\n",
    "ax[0].axis(\"off\")\n",
    "ax[1].imshow(img2)\n",
    "ax[1].axis(\"off\")\n",
    "\n",
    "plt.show()"
   ]
  },
  {
   "cell_type": "markdown",
   "metadata": {},
   "source": [
    "### Figure 4\n",
    "\n",
    "These figures were created in the same way as above"
   ]
  },
  {
   "cell_type": "code",
   "execution_count": null,
   "metadata": {},
   "outputs": [],
   "source": [
    "img1 = mpimg.imread(\"results/classifiers/resnet_latentdim1.png\")\n",
    "img2 = mpimg.imread(\"results/classifiers/resnet_latentdim3.png\")\n",
    "\n",
    "f, ax = plt.subplots(1, 2, figsize=(25, 25))\n",
    "\n",
    "ax[0].imshow(img1)\n",
    "ax[0].axis(\"off\")\n",
    "ax[1].imshow(img2)\n",
    "ax[1].axis(\"off\")\n",
    "\n",
    "plt.show()"
   ]
  }
 ],
 "metadata": {
  "kernelspec": {
   "display_name": "Python 3",
   "language": "python",
   "name": "python3"
  },
  "language_info": {
   "codemirror_mode": {
    "name": "ipython",
    "version": 3
   },
   "file_extension": ".py",
   "mimetype": "text/x-python",
   "name": "python",
   "nbconvert_exporter": "python",
   "pygments_lexer": "ipython3",
   "version": "3.8.5"
  }
 },
 "nbformat": 4,
 "nbformat_minor": 4
}
